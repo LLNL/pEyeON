{
 "cells": [
  {
   "cell_type": "markdown",
   "id": "9df36551-c6a4-49a8-9c33-ce0077f2d4d3",
   "metadata": {},
   "source": [
    "## EyeON: Eye on Operational Networks\n",
    "### a firmware inventory/threat analysis tool\n"
   ]
  },
  {
   "cell_type": "code",
   "execution_count": 1,
   "id": "2d4a54c7-9bde-4469-8423-4141470acf20",
   "metadata": {},
   "outputs": [],
   "source": [
    "from eyeon import observe\n",
    "from pprint import pprint"
   ]
  },
  {
   "cell_type": "markdown",
   "id": "7d72ecff-05f9-4422-882d-4618b3a058b8",
   "metadata": {},
   "source": [
    "### Objects\n",
    "EyeON consists of two parts - an `observe` call and a `parse` call. `observe` works on a single file to return a suite of identifying metrics. `parse` calls `observe` recursively, returning an observation for each file in a directory. Both of these can be run either from a library import or a `CLI` command."
   ]
  },
  {
   "cell_type": "code",
   "execution_count": 2,
   "id": "e31fb08f-b2fd-4510-b5d3-5455a33e092a",
   "metadata": {},
   "outputs": [],
   "source": [
    "obs = observe.Observe(\"./tests/Obsidian.1.1.9.exe\")\n",
    "ols = observe.Observe(\"./tests/ls\")"
   ]
  },
  {
   "cell_type": "markdown",
   "id": "eab761ff-e92e-44b4-b1ce-e8d4e7ffb69e",
   "metadata": {},
   "source": [
    "### Data Standard\n",
    "Depending on the file type, e.g. PE or ELF, different observations will be collected. \n",
    "For instance, PE files typically contain more metadata and have signature information."
   ]
  },
  {
   "cell_type": "raw",
   "id": "604d09e5-61c1-439f-8d5d-046ce959f1b8",
   "metadata": {},
   "source": [
    "print(obs)"
   ]
  },
  {
   "cell_type": "code",
   "execution_count": 10,
   "id": "a7dc09c8-a616-4ed0-a766-f72b9dab0e9b",
   "metadata": {},
   "outputs": [
    {
     "name": "stdout",
     "output_type": "stream",
     "text": [
      "cert. version     : 3\n",
      "serial number     : 48:FC:93:B4:60:55:94:8D:36:A7:C9:8A:89:D6:94:16\n",
      "issuer name       : C=GB, ST=Greater Manchester, L=Salford, O=Comodo CA Limited, CN=AAA Certificate Services\n",
      "subject name      : C=GB, O=Sectigo Limited, CN=Sectigo Public Code Signing Root R46\n",
      "issued  on        : 2021-05-25 00:00:00\n",
      "expires on        : 2028-12-31 23:59:59\n",
      "signed using      : RSA with SHA-384\n",
      "RSA key size      : 4096 bits\n",
      "basic constraints : CA=true\n",
      "key usage         : Digital Signature, Key Cert Sign, CRL Sign\n",
      "ext key usage     : Code Signing\n",
      "certificate policies : Any Policy, ???\n",
      "\n",
      "cert. version     : 3\n",
      "serial number     : 0E:9B:18:8E:F9:D0:2D:E7:EF:DB:50:E2:08:40:18:5A\n",
      "issuer name       : C=US, O=DigiCert Inc, OU=www.digicert.com, CN=DigiCert Assured ID Root CA\n",
      "subject name      : C=US, O=DigiCert Inc, OU=www.digicert.com, CN=DigiCert Trusted Root G4\n",
      "issued  on        : 2022-08-01 00:00:00\n",
      "expires on        : 2031-11-09 23:59:59\n",
      "signed using      : RSA with SHA-384\n",
      "RSA key size      : 4096 bits\n",
      "basic constraints : CA=true\n",
      "key usage         : Digital Signature, Key Cert Sign, CRL Sign\n",
      "certificate policies : Any Policy\n",
      "\n",
      "cert. version     : 3\n",
      "serial number     : 9C:90:57:DC:1E:DF:33:B0:32:69:FF:6E:54:DC:F1:57\n",
      "issuer name       : C=GB, O=Sectigo Limited, CN=Sectigo Public Code Signing CA R36\n",
      "subject name      : C=CA, ST=Ontario, O=Dynalist Inc, CN=Dynalist Inc\n",
      "issued  on        : 2021-10-15 00:00:00\n",
      "expires on        : 2024-10-14 23:59:59\n",
      "signed using      : RSA with SHA-384\n",
      "RSA key size      : 3072 bits\n",
      "basic constraints : CA=false\n",
      "cert. type        : Object Signing\n",
      "key usage         : Digital Signature\n",
      "ext key usage     : Code Signing\n",
      "certificate policies : ???, ???\n",
      "\n",
      "cert. version     : 3\n",
      "serial number     : 62:1D:6D:0C:52:01:9E:3B:90:79:15:20:89:21:1C:0A\n",
      "issuer name       : C=GB, O=Sectigo Limited, CN=Sectigo Public Code Signing Root R46\n",
      "subject name      : C=GB, O=Sectigo Limited, CN=Sectigo Public Code Signing CA R36\n",
      "issued  on        : 2021-03-22 00:00:00\n",
      "expires on        : 2036-03-21 23:59:59\n",
      "signed using      : RSA with SHA-384\n",
      "RSA key size      : 3072 bits\n",
      "basic constraints : CA=true, max_pathlen=0\n",
      "key usage         : Digital Signature, Key Cert Sign, CRL Sign\n",
      "ext key usage     : Code Signing\n",
      "certificate policies : Any Policy, ???\n",
      "\n",
      "cert. version     : 3\n",
      "serial number     : 07:36:37:B7:24:54:7C:D8:47:AC:FD:28:66:2A:5E:5B\n",
      "issuer name       : C=US, O=DigiCert Inc, OU=www.digicert.com, CN=DigiCert Trusted Root G4\n",
      "subject name      : C=US, O=DigiCert\\, Inc., CN=DigiCert Trusted G4 RSA4096 SHA256 TimeStamping CA\n",
      "issued  on        : 2022-03-23 00:00:00\n",
      "expires on        : 2037-03-22 23:59:59\n",
      "signed using      : RSA with SHA-256\n",
      "RSA key size      : 4096 bits\n",
      "basic constraints : CA=true, max_pathlen=0\n",
      "key usage         : Digital Signature, Key Cert Sign, CRL Sign\n",
      "ext key usage     : Time Stamping\n",
      "certificate policies : ???, ???\n",
      "\n",
      "cert. version     : 3\n",
      "serial number     : 0C:4D:69:72:4B:94:FA:3C:2A:4A:3D:29:07:80:3D:5A\n",
      "issuer name       : C=US, O=DigiCert\\, Inc., CN=DigiCert Trusted G4 RSA4096 SHA256 TimeStamping CA\n",
      "subject name      : C=US, O=DigiCert, CN=DigiCert Timestamp 2022 - 2\n",
      "issued  on        : 2022-09-21 00:00:00\n",
      "expires on        : 2033-11-21 23:59:59\n",
      "signed using      : RSA with SHA-256\n",
      "RSA key size      : 4096 bits\n",
      "basic constraints : CA=false\n",
      "key usage         : Digital Signature\n",
      "ext key usage     : Time Stamping\n",
      "certificate policies : ???, ???\n",
      "\n"
     ]
    }
   ],
   "source": [
    "for key, val in obs.signatures[\"signatures\"].items():\n",
    "    for cert in val[\"certs\"]:\n",
    "        for dat in cert.split(\"\\n\"):\n",
    "            print(dat)"
   ]
  },
  {
   "cell_type": "code",
   "execution_count": 8,
   "id": "a061de43-2331-477e-9031-e3ec0163494f",
   "metadata": {},
   "outputs": [
    {
     "data": {
      "text/plain": [
       "{'certs': ['cert. version     : 3\\nserial number     : 48:FC:93:B4:60:55:94:8D:36:A7:C9:8A:89:D6:94:16\\nissuer name       : C=GB, ST=Greater Manchester, L=Salford, O=Comodo CA Limited, CN=AAA Certificate Services\\nsubject name      : C=GB, O=Sectigo Limited, CN=Sectigo Public Code Signing Root R46\\nissued  on        : 2021-05-25 00:00:00\\nexpires on        : 2028-12-31 23:59:59\\nsigned using      : RSA with SHA-384\\nRSA key size      : 4096 bits\\nbasic constraints : CA=true\\nkey usage         : Digital Signature, Key Cert Sign, CRL Sign\\next key usage     : Code Signing\\ncertificate policies : Any Policy, ???\\n',\n",
       "  'cert. version     : 3\\nserial number     : 0E:9B:18:8E:F9:D0:2D:E7:EF:DB:50:E2:08:40:18:5A\\nissuer name       : C=US, O=DigiCert Inc, OU=www.digicert.com, CN=DigiCert Assured ID Root CA\\nsubject name      : C=US, O=DigiCert Inc, OU=www.digicert.com, CN=DigiCert Trusted Root G4\\nissued  on        : 2022-08-01 00:00:00\\nexpires on        : 2031-11-09 23:59:59\\nsigned using      : RSA with SHA-384\\nRSA key size      : 4096 bits\\nbasic constraints : CA=true\\nkey usage         : Digital Signature, Key Cert Sign, CRL Sign\\ncertificate policies : Any Policy\\n',\n",
       "  'cert. version     : 3\\nserial number     : 9C:90:57:DC:1E:DF:33:B0:32:69:FF:6E:54:DC:F1:57\\nissuer name       : C=GB, O=Sectigo Limited, CN=Sectigo Public Code Signing CA R36\\nsubject name      : C=CA, ST=Ontario, O=Dynalist Inc, CN=Dynalist Inc\\nissued  on        : 2021-10-15 00:00:00\\nexpires on        : 2024-10-14 23:59:59\\nsigned using      : RSA with SHA-384\\nRSA key size      : 3072 bits\\nbasic constraints : CA=false\\ncert. type        : Object Signing\\nkey usage         : Digital Signature\\next key usage     : Code Signing\\ncertificate policies : ???, ???\\n',\n",
       "  'cert. version     : 3\\nserial number     : 62:1D:6D:0C:52:01:9E:3B:90:79:15:20:89:21:1C:0A\\nissuer name       : C=GB, O=Sectigo Limited, CN=Sectigo Public Code Signing Root R46\\nsubject name      : C=GB, O=Sectigo Limited, CN=Sectigo Public Code Signing CA R36\\nissued  on        : 2021-03-22 00:00:00\\nexpires on        : 2036-03-21 23:59:59\\nsigned using      : RSA with SHA-384\\nRSA key size      : 3072 bits\\nbasic constraints : CA=true, max_pathlen=0\\nkey usage         : Digital Signature, Key Cert Sign, CRL Sign\\next key usage     : Code Signing\\ncertificate policies : Any Policy, ???\\n',\n",
       "  'cert. version     : 3\\nserial number     : 07:36:37:B7:24:54:7C:D8:47:AC:FD:28:66:2A:5E:5B\\nissuer name       : C=US, O=DigiCert Inc, OU=www.digicert.com, CN=DigiCert Trusted Root G4\\nsubject name      : C=US, O=DigiCert\\\\, Inc., CN=DigiCert Trusted G4 RSA4096 SHA256 TimeStamping CA\\nissued  on        : 2022-03-23 00:00:00\\nexpires on        : 2037-03-22 23:59:59\\nsigned using      : RSA with SHA-256\\nRSA key size      : 4096 bits\\nbasic constraints : CA=true, max_pathlen=0\\nkey usage         : Digital Signature, Key Cert Sign, CRL Sign\\next key usage     : Time Stamping\\ncertificate policies : ???, ???\\n',\n",
       "  'cert. version     : 3\\nserial number     : 0C:4D:69:72:4B:94:FA:3C:2A:4A:3D:29:07:80:3D:5A\\nissuer name       : C=US, O=DigiCert\\\\, Inc., CN=DigiCert Trusted G4 RSA4096 SHA256 TimeStamping CA\\nsubject name      : C=US, O=DigiCert, CN=DigiCert Timestamp 2022 - 2\\nissued  on        : 2022-09-21 00:00:00\\nexpires on        : 2033-11-21 23:59:59\\nsigned using      : RSA with SHA-256\\nRSA key size      : 4096 bits\\nbasic constraints : CA=false\\nkey usage         : Digital Signature\\next key usage     : Time Stamping\\ncertificate policies : ???, ???\\n'],\n",
       " 'signers': 'SHA_1/RSA - C=GB, O=Sectigo Limited, CN=Sectigo Public Code Signing CA R36 - 4 auth attr - 2 unauth attr',\n",
       " 'digest_algorithm': 'ALGORITHMS.SHA_1',\n",
       " 'verification': 'OK'}"
      ]
     },
     "execution_count": 8,
     "metadata": {},
     "output_type": "execute_result"
    }
   ],
   "source": [
    "val"
   ]
  },
  {
   "cell_type": "code",
   "execution_count": 1,
   "id": "bde27bbc-ef95-45dc-b826-fd48d6bb5bdc",
   "metadata": {},
   "outputs": [],
   "source": [
    "import lief\n",
    "import networkx as nx"
   ]
  },
  {
   "cell_type": "code",
   "execution_count": 18,
   "id": "030ac8b3-4a4b-4663-bc34-3a7884464bc4",
   "metadata": {},
   "outputs": [],
   "source": [
    "G = nx.DiGraph(name=\"Signing Certs\")\n",
    "label_dict = {}\n",
    "sample_cert = None\n"
   ]
  },
  {
   "cell_type": "code",
   "execution_count": 19,
   "id": "9ec625bd-f2b4-4204-8343-3e14c1dd0c82",
   "metadata": {},
   "outputs": [
    {
     "name": "stdout",
     "output_type": "stream",
     "text": [
      "C=GB, O=Sectigo Limited, CN=Sectigo Public Code Signing Root R46\n",
      "{'C': 'GB', 'O': 'Sectigo Limited', 'CN': 'Sectigo Public Code Signing Root R46'}\n",
      "C=US, O=DigiCert Inc, OU=www.digicert.com, CN=DigiCert Trusted Root G4\n",
      "{'C': 'US', 'O': 'DigiCert Inc', 'OU': 'www.digicert.com', 'CN': 'DigiCert Trusted Root G4'}\n",
      "C=CA, ST=Ontario, O=Dynalist Inc, CN=Dynalist Inc\n",
      "{'C': 'CA', 'ST': 'Ontario', 'O': 'Dynalist Inc', 'CN': 'Dynalist Inc'}\n",
      "C=GB, O=Sectigo Limited, CN=Sectigo Public Code Signing CA R36\n",
      "{'C': 'GB', 'O': 'Sectigo Limited', 'CN': 'Sectigo Public Code Signing CA R36'}\n",
      "['Inc.']\n",
      "C=US, O=DigiCert\\, Inc., CN=DigiCert Trusted G4 RSA4096 SHA256 TimeStamping CA\n",
      "{'C': 'US', 'O': 'DigiCert\\\\', 'Inc.': '', 'CN': 'DigiCert Trusted G4 RSA4096 SHA256 TimeStamping CA'}\n",
      "C=US, O=DigiCert, CN=DigiCert Timestamp 2022 - 2\n",
      "{'C': 'US', 'O': 'DigiCert', 'CN': 'DigiCert Timestamp 2022 - 2'}\n"
     ]
    }
   ],
   "source": [
    "#for root, dirs, files in os.walk(exe):\n",
    "# for file in os.listdir(exe):\n",
    "#    path = root.split(os.sep)\n",
    "#    print((len(path) - 1) * '---', os.path.basename(root))\n",
    "#   for file in files:\n",
    "#    print(len(path) * '---', file)\n",
    "file = \"Obsidian.1.1.9.exe\"\n",
    "pe = lief.parse(f\"tests/{file}\")\n",
    "# for sig in pe.signatures:\n",
    "sig = pe.signatures[0]\n",
    "for crt in sig.certificates:\n",
    "# print(crt)\n",
    "# Write cert (in DER format)\n",
    "    with open(f\"tests/outputs/{crt.subject}.crt\", \"wb\") as binary_file:\n",
    "      binary_file.write(crt.raw)\n",
    "    # Add to graph\n",
    "    try:\n",
    "      G.add_nodes_from([crt.subject,crt.issuer])\n",
    "      G.add_edge(crt.subject,crt.issuer)\n",
    "      label_dict[crt.subject]=crt.subject\n",
    "      G.add_nodes_from([crt.subject,crt.issuer])\n",
    "      G.add_edge(crt.subject,crt.issuer)\n",
    "    except nx.NetworkXError:\n",
    "      print('Yikes!')\n",
    "      print(crt.subject)\n",
    "      print(crt.issuer)\n",
    "    spl = str(crt.subject).split(', ')\n",
    "    subj = {}\n",
    "    for i in spl:\n",
    "        j = i.split(\"=\")\n",
    "        try:\n",
    "            subj[j[0]] = j[1]\n",
    "        except:\n",
    "            print(j)\n",
    "            subj[j[0]] = \"\"\n",
    "    print(crt.subject)\n",
    "    print(subj)\n"
   ]
  },
  {
   "cell_type": "code",
   "execution_count": 20,
   "id": "272fd600-c3f5-46b9-892e-329e26888aa6",
   "metadata": {},
   "outputs": [
    {
     "data": {
      "image/png": "[encoded data removed]",
      "text/plain": [
       "<Figure size 640x480 with 1 Axes>"
      ]
     },
     "metadata": {},
     "output_type": "display_data"
    }
   ],
   "source": [
    "nx.draw_spring(G,with_labels=True, labels=label_dict, )\n"
   ]
  },
  {
   "cell_type": "code",
   "execution_count": 6,
   "id": "c0095e51-a644-4918-95e2-2303d49312ef",
   "metadata": {},
   "outputs": [],
   "source": [
    "# %pip install matplotlib"
   ]
  },
  {
   "cell_type": "code",
   "execution_count": 22,
   "id": "33b387c6-45ce-4ee1-9687-93089edeadf0",
   "metadata": {},
   "outputs": [
    {
     "data": {
      "text/plain": [
       "InDegreeView({'C=GB, O=Sectigo Limited, CN=Sectigo Public Code Signing Root R46': 1, 'C=GB, ST=Greater Manchester, L=Salford, O=Comodo CA Limited, CN=AAA Certificate Services': 1, 'C=US, O=DigiCert Inc, OU=www.digicert.com, CN=DigiCert Trusted Root G4': 1, 'C=US, O=DigiCert Inc, OU=www.digicert.com, CN=DigiCert Assured ID Root CA': 1, 'C=CA, ST=Ontario, O=Dynalist Inc, CN=Dynalist Inc': 0, 'C=GB, O=Sectigo Limited, CN=Sectigo Public Code Signing CA R36': 1, 'C=US, O=DigiCert\\\\, Inc., CN=DigiCert Trusted G4 RSA4096 SHA256 TimeStamping CA': 1, 'C=US, O=DigiCert, CN=DigiCert Timestamp 2022 - 2': 0})"
      ]
     },
     "execution_count": 22,
     "metadata": {},
     "output_type": "execute_result"
    }
   ],
   "source": [
    "G.in_degree"
   ]
  },
  {
   "cell_type": "code",
   "execution_count": 10,
   "id": "03af0b11-4de1-456a-aea5-46505913cd75",
   "metadata": {},
   "outputs": [],
   "source": [
    "spl = str(crt.subject).split(',')\n",
    "subj = {}\n",
    "for i in spl:\n",
    "    j = i.split(\"=\")\n",
    "    subj[j[0]] = j[1]\n"
   ]
  },
  {
   "cell_type": "code",
   "execution_count": 11,
   "id": "8dc001bc-5813-4876-8f6e-e258387676a3",
   "metadata": {},
   "outputs": [
    {
     "data": {
      "text/plain": [
       "{'C': 'US', ' O': 'DigiCert', ' CN': 'DigiCert Timestamp 2022 - 2'}"
      ]
     },
     "execution_count": 11,
     "metadata": {},
     "output_type": "execute_result"
    }
   ],
   "source": [
    "subj"
   ]
  },
  {
   "cell_type": "code",
   "execution_count": 17,
   "id": "fd91e1e6-7690-4325-9f51-858c953ddaf0",
   "metadata": {},
   "outputs": [
    {
     "name": "stdout",
     "output_type": "stream",
     "text": [
      "Help on function draw_networkx in module networkx.drawing.nx_pylab:\n",
      "\n",
      "draw_networkx(G, pos=None, arrows=None, with_labels=True, **kwds)\n",
      "    Draw the graph G using Matplotlib.\n",
      "    \n",
      "    Draw the graph with Matplotlib with options for node positions,\n",
      "    labeling, titles, and many other drawing features.\n",
      "    See draw() for simple drawing without labels or axes.\n",
      "    \n",
      "    Parameters\n",
      "    ----------\n",
      "    G : graph\n",
      "        A networkx graph\n",
      "    \n",
      "    pos : dictionary, optional\n",
      "        A dictionary with nodes as keys and positions as values.\n",
      "        If not specified a spring layout positioning will be computed.\n",
      "        See :py:mod:`networkx.drawing.layout` for functions that\n",
      "        compute node positions.\n",
      "    \n",
      "    arrows : bool or None, optional (default=None)\n",
      "        If `None`, directed graphs draw arrowheads with\n",
      "        `~matplotlib.patches.FancyArrowPatch`, while undirected graphs draw edges\n",
      "        via `~matplotlib.collections.LineCollection` for speed.\n",
      "        If `True`, draw arrowheads with FancyArrowPatches (bendable and stylish).\n",
      "        If `False`, draw edges using LineCollection (linear and fast).\n",
      "        For directed graphs, if True draw arrowheads.\n",
      "        Note: Arrows will be the same color as edges.\n",
      "    \n",
      "    arrowstyle : str (default='-\\|>' for directed graphs)\n",
      "        For directed graphs, choose the style of the arrowsheads.\n",
      "        For undirected graphs default to '-'\n",
      "    \n",
      "        See `matplotlib.patches.ArrowStyle` for more options.\n",
      "    \n",
      "    arrowsize : int or list (default=10)\n",
      "        For directed graphs, choose the size of the arrow head's length and\n",
      "        width. A list of values can be passed in to assign a different size for arrow head's length and width.\n",
      "        See `matplotlib.patches.FancyArrowPatch` for attribute `mutation_scale`\n",
      "        for more info.\n",
      "    \n",
      "    with_labels :  bool (default=True)\n",
      "        Set to True to draw labels on the nodes.\n",
      "    \n",
      "    ax : Matplotlib Axes object, optional\n",
      "        Draw the graph in the specified Matplotlib axes.\n",
      "    \n",
      "    nodelist : list (default=list(G))\n",
      "        Draw only specified nodes\n",
      "    \n",
      "    edgelist : list (default=list(G.edges()))\n",
      "        Draw only specified edges\n",
      "    \n",
      "    node_size : scalar or array (default=300)\n",
      "        Size of nodes.  If an array is specified it must be the\n",
      "        same length as nodelist.\n",
      "    \n",
      "    node_color : color or array of colors (default='#1f78b4')\n",
      "        Node color. Can be a single color or a sequence of colors with the same\n",
      "        length as nodelist. Color can be string or rgb (or rgba) tuple of\n",
      "        floats from 0-1. If numeric values are specified they will be\n",
      "        mapped to colors using the cmap and vmin,vmax parameters. See\n",
      "        matplotlib.scatter for more details.\n",
      "    \n",
      "    node_shape :  string (default='o')\n",
      "        The shape of the node.  Specification is as matplotlib.scatter\n",
      "        marker, one of 'so^>v<dph8'.\n",
      "    \n",
      "    alpha : float or None (default=None)\n",
      "        The node and edge transparency\n",
      "    \n",
      "    cmap : Matplotlib colormap, optional\n",
      "        Colormap for mapping intensities of nodes\n",
      "    \n",
      "    vmin,vmax : float, optional\n",
      "        Minimum and maximum for node colormap scaling\n",
      "    \n",
      "    linewidths : scalar or sequence (default=1.0)\n",
      "        Line width of symbol border\n",
      "    \n",
      "    width : float or array of floats (default=1.0)\n",
      "        Line width of edges\n",
      "    \n",
      "    edge_color : color or array of colors (default='k')\n",
      "        Edge color. Can be a single color or a sequence of colors with the same\n",
      "        length as edgelist. Color can be string or rgb (or rgba) tuple of\n",
      "        floats from 0-1. If numeric values are specified they will be\n",
      "        mapped to colors using the edge_cmap and edge_vmin,edge_vmax parameters.\n",
      "    \n",
      "    edge_cmap : Matplotlib colormap, optional\n",
      "        Colormap for mapping intensities of edges\n",
      "    \n",
      "    edge_vmin,edge_vmax : floats, optional\n",
      "        Minimum and maximum for edge colormap scaling\n",
      "    \n",
      "    style : string (default=solid line)\n",
      "        Edge line style e.g.: '-', '--', '-.', ':'\n",
      "        or words like 'solid' or 'dashed'.\n",
      "        (See `matplotlib.patches.FancyArrowPatch`: `linestyle`)\n",
      "    \n",
      "    labels : dictionary (default=None)\n",
      "        Node labels in a dictionary of text labels keyed by node\n",
      "    \n",
      "    font_size : int (default=12 for nodes, 10 for edges)\n",
      "        Font size for text labels\n",
      "    \n",
      "    font_color : string (default='k' black)\n",
      "        Font color string\n",
      "    \n",
      "    font_weight : string (default='normal')\n",
      "        Font weight\n",
      "    \n",
      "    font_family : string (default='sans-serif')\n",
      "        Font family\n",
      "    \n",
      "    label : string, optional\n",
      "        Label for graph legend\n",
      "    \n",
      "    kwds : optional keywords\n",
      "        See networkx.draw_networkx_nodes(), networkx.draw_networkx_edges(), and\n",
      "        networkx.draw_networkx_labels() for a description of optional keywords.\n",
      "    \n",
      "    Notes\n",
      "    -----\n",
      "    For directed graphs, arrows  are drawn at the head end.  Arrows can be\n",
      "    turned off with keyword arrows=False.\n",
      "    \n",
      "    Examples\n",
      "    --------\n",
      "    >>> G = nx.dodecahedral_graph()\n",
      "    >>> nx.draw(G)\n",
      "    >>> nx.draw(G, pos=nx.spring_layout(G))  # use spring layout\n",
      "    \n",
      "    >>> import matplotlib.pyplot as plt\n",
      "    >>> limits = plt.axis(\"off\")  # turn off axis\n",
      "    \n",
      "    Also see the NetworkX drawing examples at\n",
      "    https://networkx.org/documentation/latest/auto_examples/index.html\n",
      "    \n",
      "    See Also\n",
      "    --------\n",
      "    draw\n",
      "    draw_networkx_nodes\n",
      "    draw_networkx_edges\n",
      "    draw_networkx_labels\n",
      "    draw_networkx_edge_labels\n",
      "\n"
     ]
    }
   ],
   "source": [
    "help(nx.draw_networkx)"
   ]
  },
  {
   "cell_type": "code",
   "execution_count": null,
   "id": "c4940861-3ff5-422a-a139-a6ebeb7db891",
   "metadata": {},
   "outputs": [],
   "source": []
  }
 ],
 "metadata": {
  "kernelspec": {
   "display_name": "Python 3 (ipykernel)",
   "language": "python",
   "name": "python3"
  },
  "language_info": {
   "codemirror_mode": {
    "name": "ipython",
    "version": 3
   },
   "file_extension": ".py",
   "mimetype": "text/x-python",
   "name": "python",
   "nbconvert_exporter": "python",
   "pygments_lexer": "ipython3",
   "version": "3.10.12"
  }
 },
 "nbformat": 4,
 "nbformat_minor": 5
}
