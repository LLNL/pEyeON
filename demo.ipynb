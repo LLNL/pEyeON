{
 "cells": [
  {
   "cell_type": "markdown",
   "id": "9df36551-c6a4-49a8-9c33-ce0077f2d4d3",
   "metadata": {},
   "source": [
    "## EyeON: Eye on Operational Networks\n",
    "### a firmware inventory/threat analysis tool\n"
   ]
  },
  {
   "cell_type": "code",
   "execution_count": null,
   "id": "2d4a54c7-9bde-4469-8423-4141470acf20",
   "metadata": {},
   "outputs": [],
   "source": [
    "from eyeon import observe\n",
    "from pprint import pprint"
   ]
  },
  {
   "cell_type": "markdown",
   "id": "7d72ecff-05f9-4422-882d-4618b3a058b8",
   "metadata": {},
   "source": [
    "### Objects\n",
    "EyeON consists of two parts - an `observe` call and a `parse` call. `observe` works on a single file to return a suite of identifying metrics. `parse` calls `observe` recursively, returning an observation for each file in a directory. Both of these can be run either from a library import or a `CLI` command."
   ]
  },
  {
   "cell_type": "code",
   "execution_count": null,
   "id": "e31fb08f-b2fd-4510-b5d3-5455a33e092a",
   "metadata": {},
   "outputs": [],
   "source": [
    "obs = observe.Observe(\"./tests/Obsidian.1.1.9.exe\")\n",
    "ols = observe.Observe(\"./tests/ls\")"
   ]
  },
  {
   "cell_type": "markdown",
   "id": "eab761ff-e92e-44b4-b1ce-e8d4e7ffb69e",
   "metadata": {},
   "source": [
    "### Data Standard\n",
    "Depending on the file type, e.g. PE or ELF, different observations will be collected. \n",
    "For instance, PE files typically contain more metadata and have signature information. Here we show some high-level characteristics, and we can dig into the certificates more thoroughly."
   ]
  },
  {
   "cell_type": "code",
   "execution_count": null,
   "id": "ab03089a-4961-411b-992d-522df5280a9a",
   "metadata": {},
   "outputs": [],
   "source": [
    "print(\"authentihash:\", obs.authentihash)\n",
    "print(\"filename:\", obs.filename)\n",
    "print(\"file magic:\", obs.magic)\n",
    "print(\"certificates:\", obs.signatures[\"valid\"])"
   ]
  },
  {
   "cell_type": "code",
   "execution_count": null,
   "id": "61e98697-43bc-4aa5-815e-b4c35fdab70d",
   "metadata": {
    "scrolled": true
   },
   "outputs": [],
   "source": [
    "for sig, vs in obs.signatures[\"signatures\"].items():\n",
    "    print(\"digest algorithm:\", vs[\"digest_algorithm\"])\n",
    "    print(\"digest value:\", sig)\n",
    "    print(\"signers\", vs[\"signers\"])\n",
    "    print(\"cert validation:\", vs[\"verification\"])\n",
    "    for cert in vs[\"certs\"]:\n",
    "        pprint(cert)"
   ]
  },
  {
   "cell_type": "markdown",
   "id": "3bd96841-2560-4b5e-af70-790681501598",
   "metadata": {},
   "source": [
    "There is also a Command Line component installed with the `eyeon` library containing 2 options: `eyeon observe` and `eyeon parse`.\n",
    "`observe` generates output for a single file, whereas `parse` scans a directory.\n",
    "\n",
    "It can be called as below (note `!` executes a terminal command):"
   ]
  },
  {
   "cell_type": "code",
   "execution_count": null,
   "id": "510b7ddf-aca0-4db6-bdc5-a27e885f233a",
   "metadata": {},
   "outputs": [],
   "source": [
    "! eyeon --help"
   ]
  },
  {
   "cell_type": "code",
   "execution_count": null,
   "id": "6ee0d010-7aaf-44b8-bfa3-b02eb0e19af3",
   "metadata": {},
   "outputs": [],
   "source": [
    "! eyeon observe --output-dir ./outputs ./tests/Obsidian.1.1.9.exe\n",
    "! jq . ./outputs/Obsidian.*"
   ]
  },
  {
   "cell_type": "code",
   "execution_count": null,
   "id": "46ff5d28-78f7-48dd-9db4-413cb95865d7",
   "metadata": {},
   "outputs": [],
   "source": []
  },
  {
   "cell_type": "code",
   "execution_count": null,
   "id": "510cd94c-effa-464e-9e48-5ee470ebdd55",
   "metadata": {},
   "outputs": [],
   "source": []
  },
  {
   "cell_type": "code",
   "execution_count": null,
   "id": "79a96a5c-8676-453e-b669-ed667665e410",
   "metadata": {},
   "outputs": [],
   "source": []
  },
  {
   "cell_type": "code",
   "execution_count": null,
   "id": "bb904f9c-16bc-461b-9811-bb0b65534af9",
   "metadata": {},
   "outputs": [],
   "source": []
  },
  {
   "cell_type": "code",
   "execution_count": null,
   "id": "8d7cdfba-3839-4478-bc8b-9c1eb81bd486",
   "metadata": {},
   "outputs": [],
   "source": []
  },
  {
   "cell_type": "code",
   "execution_count": null,
   "id": "a7f59c11-7993-4813-902c-d09bc5d9990f",
   "metadata": {},
   "outputs": [],
   "source": []
  },
  {
   "cell_type": "code",
   "execution_count": null,
   "id": "2d4f0572-8d4b-4aca-87bb-78b68c73358b",
   "metadata": {},
   "outputs": [],
   "source": []
  },
  {
   "cell_type": "code",
   "execution_count": null,
   "id": "ba07496d-a214-4bcb-b5f0-f489238cd763",
   "metadata": {},
   "outputs": [],
   "source": []
  },
  {
   "cell_type": "code",
   "execution_count": null,
   "id": "20fb2fca-c330-4f31-891d-9d20768a741c",
   "metadata": {},
   "outputs": [],
   "source": []
  },
  {
   "cell_type": "code",
   "execution_count": null,
   "id": "c78ff3d6-84ec-4126-8fa1-588d1e5e2ec2",
   "metadata": {},
   "outputs": [],
   "source": []
  },
  {
   "cell_type": "code",
   "execution_count": null,
   "id": "030ac8b3-4a4b-4663-bc34-3a7884464bc4",
   "metadata": {},
   "outputs": [],
   "source": [
    "G = nx.DiGraph(name=\"Signing Certs\")\n",
    "label_dict = {}\n",
    "sample_cert = None\n"
   ]
  },
  {
   "cell_type": "code",
   "execution_count": null,
   "id": "9ec625bd-f2b4-4204-8343-3e14c1dd0c82",
   "metadata": {},
   "outputs": [],
   "source": [
    "#for root, dirs, files in os.walk(exe):\n",
    "# for file in os.listdir(exe):\n",
    "#    path = root.split(os.sep)\n",
    "#    print((len(path) - 1) * '---', os.path.basename(root))\n",
    "#   for file in files:\n",
    "#    print(len(path) * '---', file)\n",
    "file = \"Obsidian.1.1.9.exe\"\n",
    "pe = lief.parse(f\"tests/{file}\")\n",
    "# for sig in pe.signatures:\n",
    "sig = pe.signatures[0]\n",
    "for crt in sig.certificates:\n",
    "# print(crt)\n",
    "# Write cert (in DER format)\n",
    "    with open(f\"tests/outputs/{crt.subject}.crt\", \"wb\") as binary_file:\n",
    "      binary_file.write(crt.raw)\n",
    "    # Add to graph\n",
    "    try:\n",
    "      G.add_nodes_from([crt.subject,crt.issuer])\n",
    "      G.add_edge(crt.subject,crt.issuer)\n",
    "      label_dict[crt.subject]=crt.subject\n",
    "      G.add_nodes_from([crt.subject,crt.issuer])\n",
    "      G.add_edge(crt.subject,crt.issuer)\n",
    "    except nx.NetworkXError:\n",
    "      print('Yikes!')\n",
    "      print(crt.subject)\n",
    "      print(crt.issuer)\n",
    "    spl = str(crt.subject).split(', ')\n",
    "    subj = {}\n",
    "    for i in spl:\n",
    "        j = i.split(\"=\")\n",
    "        try:\n",
    "            subj[j[0]] = j[1]\n",
    "        except:\n",
    "            print(j)\n",
    "            subj[j[0]] = \"\"\n",
    "    print(crt.subject)\n",
    "    print(subj)\n"
   ]
  },
  {
   "cell_type": "code",
   "execution_count": null,
   "id": "272fd600-c3f5-46b9-892e-329e26888aa6",
   "metadata": {},
   "outputs": [],
   "source": [
    "nx.draw_spring(G,with_labels=True, labels=label_dict, )\n"
   ]
  },
  {
   "cell_type": "code",
   "execution_count": null,
   "id": "c0095e51-a644-4918-95e2-2303d49312ef",
   "metadata": {},
   "outputs": [],
   "source": [
    "# %pip install matplotlib"
   ]
  },
  {
   "cell_type": "code",
   "execution_count": null,
   "id": "33b387c6-45ce-4ee1-9687-93089edeadf0",
   "metadata": {},
   "outputs": [],
   "source": [
    "G.in_degree"
   ]
  },
  {
   "cell_type": "code",
   "execution_count": null,
   "id": "03af0b11-4de1-456a-aea5-46505913cd75",
   "metadata": {},
   "outputs": [],
   "source": [
    "spl = str(crt.subject).split(',')\n",
    "subj = {}\n",
    "for i in spl:\n",
    "    j = i.split(\"=\")\n",
    "    subj[j[0]] = j[1]\n"
   ]
  },
  {
   "cell_type": "code",
   "execution_count": null,
   "id": "8dc001bc-5813-4876-8f6e-e258387676a3",
   "metadata": {},
   "outputs": [],
   "source": [
    "subj"
   ]
  },
  {
   "cell_type": "code",
   "execution_count": null,
   "id": "fd91e1e6-7690-4325-9f51-858c953ddaf0",
   "metadata": {},
   "outputs": [],
   "source": [
    "help(nx.draw_networkx)"
   ]
  },
  {
   "cell_type": "code",
   "execution_count": null,
   "id": "c4940861-3ff5-422a-a139-a6ebeb7db891",
   "metadata": {},
   "outputs": [],
   "source": []
  }
 ],
 "metadata": {
  "kernelspec": {
   "display_name": "Python 3 (ipykernel)",
   "language": "python",
   "name": "python3"
  },
  "language_info": {
   "codemirror_mode": {
    "name": "ipython",
    "version": 3
   },
   "file_extension": ".py",
   "mimetype": "text/x-python",
   "name": "python",
   "nbconvert_exporter": "python",
   "pygments_lexer": "ipython3",
   "version": "3.10.12"
  }
 },
 "nbformat": 4,
 "nbformat_minor": 5
}
