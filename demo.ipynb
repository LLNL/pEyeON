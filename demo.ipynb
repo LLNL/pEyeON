{
 "cells": [
  {
   "cell_type": "markdown",
   "id": "9df36551-c6a4-49a8-9c33-ce0077f2d4d3",
   "metadata": {},
   "source": [
    "## EyeON: Eye on Operational Networks\n",
    "### a firmware inventory/threat analysis tool\n"
   ]
  },
  {
   "cell_type": "code",
   "execution_count": 1,
   "id": "a9b8cafe-d7eb-408c-bd9c-f239f465d55e",
   "metadata": {},
   "outputs": [],
   "source": [
    "from eyeon import observe\n",
    "from pprint import pprint"
   ]
  },
  {
   "cell_type": "markdown",
   "id": "7d72ecff-05f9-4422-882d-4618b3a058b8",
   "metadata": {},
   "source": [
    "### Objects\n",
    "EyeON consists of two parts - an `observe` call and a `parse` call. `observe` works on a single file to return a suite of identifying metrics. `parse` calls `observe` recursively, returning an observation for each file in a directory. Both of these can be run either from a library import or a `CLI` command."
   ]
  },
  {
   "cell_type": "code",
   "execution_count": 2,
   "id": "e31fb08f-b2fd-4510-b5d3-5455a33e092a",
   "metadata": {},
   "outputs": [],
   "source": [
    "obs = observe.Observe(\"./tests/Obsidian.1.1.9.exe\")\n",
    "ols = observe.Observe(\"./tests/ls\")"
   ]
  },
  {
   "cell_type": "markdown",
   "id": "eab761ff-e92e-44b4-b1ce-e8d4e7ffb69e",
   "metadata": {},
   "source": [
    "### Data Standard\n",
    "Depending on the file type, e.g. PE or ELF, different observations will be collected. \n",
    "For instance, PE files typically contain more metadata and have signature information. Here we show some high-level characteristics, and we can dig into the certificates more thoroughly."
   ]
  },
  {
   "cell_type": "code",
   "execution_count": 3,
   "id": "ab03089a-4961-411b-992d-522df5280a9a",
   "metadata": {},
   "outputs": [
    {
     "name": "stdout",
     "output_type": "stream",
     "text": [
      "authentihash: e2f1f0c4b4b6524e1054bd5980129996bc021daa\n",
      "filename: Obsidian.1.1.9.exe\n",
      "file magic: PE32 executable (GUI) Intel 80386, for MS Windows, Nullsoft Installer self-extracting archive\n",
      "certificates: OK\n"
     ]
    }
   ],
   "source": [
    "print(\"authentihash:\", obs.authentihash)\n",
    "print(\"filename:\", obs.filename)\n",
    "print(\"file magic:\", obs.magic)\n",
    "print(\"certificates:\", obs.signatures[\"valid\"])"
   ]
  },
  {
   "cell_type": "code",
   "execution_count": 4,
   "id": "3b73bc8c-cd8a-486f-97e2-5ecd6c5de0c7",
   "metadata": {},
   "outputs": [
    {
     "name": "stdout",
     "output_type": "stream",
     "text": [
      "{'FileInfo': {'CompanyName': 'Obsidian',\n",
      "              'FileDescription': 'Obsidian',\n",
      "              'FileVersion': '1.1.9',\n",
      "              'LegalCopyright': 'Copyright © 2021 Dynalist Inc.',\n",
      "              'ProductName': 'Obsidian',\n",
      "              'ProductVersion': '1.1.9'},\n",
      " 'OS': 'Windows',\n",
      " 'dllRedirectionLocal': False,\n",
      " 'peImport': ['KERNEL32.dll',\n",
      "              'USER32.dll',\n",
      "              'GDI32.dll',\n",
      "              'SHELL32.dll',\n",
      "              'ADVAPI32.dll',\n",
      "              'COMCTL32.dll',\n",
      "              'ole32.dll'],\n",
      " 'peIsClr': False,\n",
      " 'peIsDll': False,\n",
      " 'peIsExe': True,\n",
      " 'peLinkerVersion': '6.0',\n",
      " 'peMachine': 'I386',\n",
      " 'peOperatingSystemVersion': '4.0',\n",
      " 'peSubsystem': 'WINDOWS_GUI',\n",
      " 'peSubsystemVersion': '4.0'}\n"
     ]
    }
   ],
   "source": [
    "pprint(obs.metadata)"
   ]
  },
  {
   "cell_type": "code",
   "execution_count": 5,
   "id": "61e98697-43bc-4aa5-815e-b4c35fdab70d",
   "metadata": {},
   "outputs": [
    {
     "name": "stdout",
     "output_type": "stream",
     "text": [
      "digest algorithm: ALGORITHMS.SHA_1\n",
      "digest value: e2f1f0c4b4b6524e1054bd5980129996bc021daa\n",
      "signers SHA_1/RSA - C=GB, O=Sectigo Limited, CN=Sectigo Public Code Signing CA R36 - 4 auth attr - 2 unauth attr\n",
      "cert validation: OK\n",
      "{'RSA_key_size': '4096 bits',\n",
      " 'basic_constraints': 'CA=true',\n",
      " 'cert._version': '3',\n",
      " 'certificate_policies': 'Any Policy, ???',\n",
      " 'expires_on': '2028-12-31 23:59:59',\n",
      " 'ext_key_usage': 'Code Signing',\n",
      " 'issued_on': '2021-05-25 00:00:00',\n",
      " 'issuer_name': 'C=GB, ST=Greater Manchester, L=Salford, O=Comodo CA Limited, '\n",
      "                'CN=AAA Certificate Services',\n",
      " 'key_usage': 'Digital Signature, Key Cert Sign, CRL Sign',\n",
      " 'serial_number': '48:FC:93:B4:60:55:94:8D:36:A7:C9:8A:89:D6:94:16',\n",
      " 'signed_using': 'RSA with SHA-384',\n",
      " 'subject_name': 'C=GB, O=Sectigo Limited, CN=Sectigo Public Code Signing Root '\n",
      "                 'R46'}\n"
     ]
    }
   ],
   "source": [
    "for sig, vs in obs.signatures[\"signatures\"].items():\n",
    "    print(\"digest algorithm:\", vs[\"digest_algorithm\"])\n",
    "    print(\"digest value:\", sig)\n",
    "    print(\"signers\", vs[\"signers\"])\n",
    "    print(\"cert validation:\", vs[\"verification\"])\n",
    "    for cert in vs[\"certs\"]:\n",
    "        pprint(cert)\n",
    "        break\n",
    "    break"
   ]
  },
  {
   "cell_type": "markdown",
   "id": "3bd96841-2560-4b5e-af70-790681501598",
   "metadata": {},
   "source": [
    "There is also a Command Line component installed with the `eyeon` library containing 2 options: `eyeon observe` and `eyeon parse`.\n",
    "`observe` generates output for a single file, whereas `parse` scans a directory.\n",
    "\n",
    "It can be called as below (note `!` executes a terminal command):"
   ]
  },
  {
   "cell_type": "code",
   "execution_count": 6,
   "id": "510b7ddf-aca0-4db6-bdc5-a27e885f233a",
   "metadata": {},
   "outputs": [
    {
     "name": "stdout",
     "output_type": "stream",
     "text": [
      "usage: eyeon [-h] [-o OUTPUT_DIR] [-g LOG_FILE] [-v LOG_LEVEL]\n",
      "             {observe,parse} ...\n",
      "\n",
      "Eye on Operational techNology, an update tracker for OT devices\n",
      "\n",
      "positional arguments:\n",
      "  {observe,parse}       sub-command help\n",
      "    observe             observe help\n",
      "    parse               parse help\n",
      "\n",
      "options:\n",
      "  -h, --help            show this help message and exit\n",
      "  -o OUTPUT_DIR, --output-dir OUTPUT_DIR\n",
      "                        Path to results directory. Defaults to $pwd. Can set\n",
      "                        on $EYEON_OUTPUT.\n",
      "  -g LOG_FILE, --log-file LOG_FILE\n",
      "                        Output file for log. If none, prints to console.\n",
      "  -v LOG_LEVEL, --log-level LOG_LEVEL\n",
      "                        Set the log level. Defaults to ERROR.\n"
     ]
    }
   ],
   "source": [
    "! eyeon --help"
   ]
  },
  {
   "cell_type": "code",
   "execution_count": 7,
   "id": "6ee0d010-7aaf-44b8-bfa3-b02eb0e19af3",
   "metadata": {},
   "outputs": [
    {
     "name": "stdout",
     "output_type": "stream",
     "text": [
      "\u001b[1;39m{\n",
      "  \u001b[0m\u001b[34;1m\"bytecount\"\u001b[0m\u001b[1;39m: \u001b[0m\u001b[0;39m72690816\u001b[0m\u001b[1;39m,\n",
      "  \u001b[0m\u001b[34;1m\"filename\"\u001b[0m\u001b[1;39m: \u001b[0m\u001b[0;32m\"Obsidian.1.1.9.exe\"\u001b[0m\u001b[1;39m,\n",
      "  \u001b[0m\u001b[34;1m\"signatures\"\u001b[0m\u001b[1;39m: \u001b[0m\u001b[1;39m{\n",
      "    \u001b[0m\u001b[34;1m\"valid\"\u001b[0m\u001b[1;39m: \u001b[0m\u001b[0;32m\"OK\"\u001b[0m\u001b[1;39m,\n",
      "    \u001b[0m\u001b[34;1m\"signatures\"\u001b[0m\u001b[1;39m: \u001b[0m\u001b[1;39m{\n",
      "      \u001b[0m\u001b[34;1m\"e2f1f0c4b4b6524e1054bd5980129996bc021daa\"\u001b[0m\u001b[1;39m: \u001b[0m\u001b[1;39m{\n",
      "        \u001b[0m\u001b[34;1m\"certs\"\u001b[0m\u001b[1;39m: \u001b[0m\u001b[1;39m[\n",
      "          \u001b[1;39m{\n",
      "            \u001b[0m\u001b[34;1m\"cert._version\"\u001b[0m\u001b[1;39m: \u001b[0m\u001b[0;32m\"3\"\u001b[0m\u001b[1;39m,\n",
      "            \u001b[0m\u001b[34;1m\"serial_number\"\u001b[0m\u001b[1;39m: \u001b[0m\u001b[0;32m\"48:FC:93:B4:60:55:94:8D:36:A7:C9:8A:89:D6:94:16\"\u001b[0m\u001b[1;39m,\n",
      "            \u001b[0m\u001b[34;1m\"issuer_name\"\u001b[0m\u001b[1;39m: \u001b[0m\u001b[0;32m\"C=GB, ST=Greater Manchester, L=Salford, O=Comodo CA Limited, CN=AAA Certificate Services\"\u001b[0m\u001b[1;39m,\n",
      "            \u001b[0m\u001b[34;1m\"subject_name\"\u001b[0m\u001b[1;39m: \u001b[0m\u001b[0;32m\"C=GB, O=Sectigo Limited, CN=Sectigo Public Code Signing Root R46\"\u001b[0m\u001b[1;39m,\n",
      "            \u001b[0m\u001b[34;1m\"issued_on\"\u001b[0m\u001b[1;39m: \u001b[0m\u001b[0;32m\"2021-05-25 00:00:00\"\u001b[0m\u001b[1;39m,\n",
      "            \u001b[0m\u001b[34;1m\"expires_on\"\u001b[0m\u001b[1;39m: \u001b[0m\u001b[0;32m\"2028-12-31 23:59:59\"\u001b[0m\u001b[1;39m,\n",
      "            \u001b[0m\u001b[34;1m\"signed_using\"\u001b[0m\u001b[1;39m: \u001b[0m\u001b[0;32m\"RSA with SHA-384\"\u001b[0m\u001b[1;39m,\n",
      "            \u001b[0m\u001b[34;1m\"RSA_key_size\"\u001b[0m\u001b[1;39m: \u001b[0m\u001b[0;32m\"4096 bits\"\u001b[0m\u001b[1;39m,\n",
      "            \u001b[0m\u001b[34;1m\"basic_constraints\"\u001b[0m\u001b[1;39m: \u001b[0m\u001b[0;32m\"CA=true\"\u001b[0m\u001b[1;39m,\n",
      "            \u001b[0m\u001b[34;1m\"key_usage\"\u001b[0m\u001b[1;39m: \u001b[0m\u001b[0;32m\"Digital Signature, Key Cert Sign, CRL Sign\"\u001b[0m\u001b[1;39m,\n",
      "            \u001b[0m\u001b[34;1m\"ext_key_usage\"\u001b[0m\u001b[1;39m: \u001b[0m\u001b[0;32m\"Code Signing\"\u001b[0m\u001b[1;39m,\n",
      "            \u001b[0m\u001b[34;1m\"certificate_policies\"\u001b[0m\u001b[1;39m: \u001b[0m\u001b[0;32m\"Any Policy, ???\"\u001b[0m\u001b[1;39m\n",
      "          \u001b[1;39m}\u001b[0m\u001b[1;39m,\n",
      "          \u001b[1;39m{\n",
      "            \u001b[0m\u001b[34;1m\"cert._version\"\u001b[0m\u001b[1;39m: \u001b[0m\u001b[0;32m\"3\"\u001b[0m\u001b[1;39m,\n",
      "            \u001b[0m\u001b[34;1m\"serial_number\"\u001b[0m\u001b[1;39m: \u001b[0m\u001b[0;32m\"0E:9B:18:8E:F9:D0:2D:E7:EF:DB:50:E2:08:40:18:5A\"\u001b[0m\u001b[1;39m,\n",
      "            \u001b[0m\u001b[34;1m\"issuer_name\"\u001b[0m\u001b[1;39m: \u001b[0m\u001b[0;32m\"C=US, O=DigiCert Inc, OU=www.digicert.com, CN=DigiCert Assured ID Root CA\"\u001b[0m\u001b[1;39m,\n",
      "            \u001b[0m\u001b[34;1m\"subject_name\"\u001b[0m\u001b[1;39m: \u001b[0m\u001b[0;32m\"C=US, O=DigiCert Inc, OU=www.digicert.com, CN=DigiCert Trusted Root G4\"\u001b[0m\u001b[1;39m,\n",
      "            \u001b[0m\u001b[34;1m\"issued_on\"\u001b[0m\u001b[1;39m: \u001b[0m\u001b[0;32m\"2022-08-01 00:00:00\"\u001b[0m\u001b[1;39m,\n",
      "            \u001b[0m\u001b[34;1m\"expires_on\"\u001b[0m\u001b[1;39m: \u001b[0m\u001b[0;32m\"2031-11-09 23:59:59\"\u001b[0m\u001b[1;39m,\n",
      "            \u001b[0m\u001b[34;1m\"signed_using\"\u001b[0m\u001b[1;39m: \u001b[0m\u001b[0;32m\"RSA with SHA-384\"\u001b[0m\u001b[1;39m,\n",
      "            \u001b[0m\u001b[34;1m\"RSA_key_size\"\u001b[0m\u001b[1;39m: \u001b[0m\u001b[0;32m\"4096 bits\"\u001b[0m\u001b[1;39m,\n",
      "            \u001b[0m\u001b[34;1m\"basic_constraints\"\u001b[0m\u001b[1;39m: \u001b[0m\u001b[0;32m\"CA=true\"\u001b[0m\u001b[1;39m,\n",
      "            \u001b[0m\u001b[34;1m\"key_usage\"\u001b[0m\u001b[1;39m: \u001b[0m\u001b[0;32m\"Digital Signature, Key Cert Sign, CRL Sign\"\u001b[0m\u001b[1;39m,\n",
      "            \u001b[0m\u001b[34;1m\"certificate_policies\"\u001b[0m\u001b[1;39m: \u001b[0m\u001b[0;32m\"Any Policy\"\u001b[0m\u001b[1;39m\n",
      "          \u001b[1;39m}\u001b[0m\u001b[1;39m,\n",
      "          \u001b[1;39m{\n",
      "            \u001b[0m\u001b[34;1m\"cert._version\"\u001b[0m\u001b[1;39m: \u001b[0m\u001b[0;32m\"3\"\u001b[0m\u001b[1;39m,\n",
      "            \u001b[0m\u001b[34;1m\"serial_number\"\u001b[0m\u001b[1;39m: \u001b[0m\u001b[0;32m\"9C:90:57:DC:1E:DF:33:B0:32:69:FF:6E:54:DC:F1:57\"\u001b[0m\u001b[1;39m,\n",
      "            \u001b[0m\u001b[34;1m\"issuer_name\"\u001b[0m\u001b[1;39m: \u001b[0m\u001b[0;32m\"C=GB, O=Sectigo Limited, CN=Sectigo Public Code Signing CA R36\"\u001b[0m\u001b[1;39m,\n",
      "            \u001b[0m\u001b[34;1m\"subject_name\"\u001b[0m\u001b[1;39m: \u001b[0m\u001b[0;32m\"C=CA, ST=Ontario, O=Dynalist Inc, CN=Dynalist Inc\"\u001b[0m\u001b[1;39m,\n",
      "            \u001b[0m\u001b[34;1m\"issued_on\"\u001b[0m\u001b[1;39m: \u001b[0m\u001b[0;32m\"2021-10-15 00:00:00\"\u001b[0m\u001b[1;39m,\n",
      "            \u001b[0m\u001b[34;1m\"expires_on\"\u001b[0m\u001b[1;39m: \u001b[0m\u001b[0;32m\"2024-10-14 23:59:59\"\u001b[0m\u001b[1;39m,\n",
      "            \u001b[0m\u001b[34;1m\"signed_using\"\u001b[0m\u001b[1;39m: \u001b[0m\u001b[0;32m\"RSA with SHA-384\"\u001b[0m\u001b[1;39m,\n",
      "            \u001b[0m\u001b[34;1m\"RSA_key_size\"\u001b[0m\u001b[1;39m: \u001b[0m\u001b[0;32m\"3072 bits\"\u001b[0m\u001b[1;39m,\n",
      "            \u001b[0m\u001b[34;1m\"basic_constraints\"\u001b[0m\u001b[1;39m: \u001b[0m\u001b[0;32m\"CA=false\"\u001b[0m\u001b[1;39m,\n",
      "            \u001b[0m\u001b[34;1m\"cert._type\"\u001b[0m\u001b[1;39m: \u001b[0m\u001b[0;32m\"Object Signing\"\u001b[0m\u001b[1;39m,\n",
      "            \u001b[0m\u001b[34;1m\"key_usage\"\u001b[0m\u001b[1;39m: \u001b[0m\u001b[0;32m\"Digital Signature\"\u001b[0m\u001b[1;39m,\n",
      "            \u001b[0m\u001b[34;1m\"ext_key_usage\"\u001b[0m\u001b[1;39m: \u001b[0m\u001b[0;32m\"Code Signing\"\u001b[0m\u001b[1;39m,\n",
      "            \u001b[0m\u001b[34;1m\"certificate_policies\"\u001b[0m\u001b[1;39m: \u001b[0m\u001b[0;32m\"???, ???\"\u001b[0m\u001b[1;39m\n",
      "          \u001b[1;39m}\u001b[0m\u001b[1;39m,\n",
      "          \u001b[1;39m{\n",
      "            \u001b[0m\u001b[34;1m\"cert._version\"\u001b[0m\u001b[1;39m: \u001b[0m\u001b[0;32m\"3\"\u001b[0m\u001b[1;39m,\n",
      "            \u001b[0m\u001b[34;1m\"serial_number\"\u001b[0m\u001b[1;39m: \u001b[0m\u001b[0;32m\"62:1D:6D:0C:52:01:9E:3B:90:79:15:20:89:21:1C:0A\"\u001b[0m\u001b[1;39m,\n",
      "            \u001b[0m\u001b[34;1m\"issuer_name\"\u001b[0m\u001b[1;39m: \u001b[0m\u001b[0;32m\"C=GB, O=Sectigo Limited, CN=Sectigo Public Code Signing Root R46\"\u001b[0m\u001b[1;39m,\n",
      "            \u001b[0m\u001b[34;1m\"subject_name\"\u001b[0m\u001b[1;39m: \u001b[0m\u001b[0;32m\"C=GB, O=Sectigo Limited, CN=Sectigo Public Code Signing CA R36\"\u001b[0m\u001b[1;39m,\n",
      "            \u001b[0m\u001b[34;1m\"issued_on\"\u001b[0m\u001b[1;39m: \u001b[0m\u001b[0;32m\"2021-03-22 00:00:00\"\u001b[0m\u001b[1;39m,\n",
      "            \u001b[0m\u001b[34;1m\"expires_on\"\u001b[0m\u001b[1;39m: \u001b[0m\u001b[0;32m\"2036-03-21 23:59:59\"\u001b[0m\u001b[1;39m,\n",
      "            \u001b[0m\u001b[34;1m\"signed_using\"\u001b[0m\u001b[1;39m: \u001b[0m\u001b[0;32m\"RSA with SHA-384\"\u001b[0m\u001b[1;39m,\n",
      "            \u001b[0m\u001b[34;1m\"RSA_key_size\"\u001b[0m\u001b[1;39m: \u001b[0m\u001b[0;32m\"3072 bits\"\u001b[0m\u001b[1;39m,\n",
      "            \u001b[0m\u001b[34;1m\"basic_constraints\"\u001b[0m\u001b[1;39m: \u001b[0m\u001b[0;32m\"CA=true, max_pathlen=0\"\u001b[0m\u001b[1;39m,\n",
      "            \u001b[0m\u001b[34;1m\"key_usage\"\u001b[0m\u001b[1;39m: \u001b[0m\u001b[0;32m\"Digital Signature, Key Cert Sign, CRL Sign\"\u001b[0m\u001b[1;39m,\n",
      "            \u001b[0m\u001b[34;1m\"ext_key_usage\"\u001b[0m\u001b[1;39m: \u001b[0m\u001b[0;32m\"Code Signing\"\u001b[0m\u001b[1;39m,\n",
      "            \u001b[0m\u001b[34;1m\"certificate_policies\"\u001b[0m\u001b[1;39m: \u001b[0m\u001b[0;32m\"Any Policy, ???\"\u001b[0m\u001b[1;39m\n",
      "          \u001b[1;39m}\u001b[0m\u001b[1;39m,\n",
      "          \u001b[1;39m{\n",
      "            \u001b[0m\u001b[34;1m\"cert._version\"\u001b[0m\u001b[1;39m: \u001b[0m\u001b[0;32m\"3\"\u001b[0m\u001b[1;39m,\n",
      "            \u001b[0m\u001b[34;1m\"serial_number\"\u001b[0m\u001b[1;39m: \u001b[0m\u001b[0;32m\"07:36:37:B7:24:54:7C:D8:47:AC:FD:28:66:2A:5E:5B\"\u001b[0m\u001b[1;39m,\n",
      "            \u001b[0m\u001b[34;1m\"issuer_name\"\u001b[0m\u001b[1;39m: \u001b[0m\u001b[0;32m\"C=US, O=DigiCert Inc, OU=www.digicert.com, CN=DigiCert Trusted Root G4\"\u001b[0m\u001b[1;39m,\n",
      "            \u001b[0m\u001b[34;1m\"subject_name\"\u001b[0m\u001b[1;39m: \u001b[0m\u001b[0;32m\"C=US, O=DigiCert\\\\, Inc., CN=DigiCert Trusted G4 RSA4096 SHA256 TimeStamping CA\"\u001b[0m\u001b[1;39m,\n",
      "            \u001b[0m\u001b[34;1m\"issued_on\"\u001b[0m\u001b[1;39m: \u001b[0m\u001b[0;32m\"2022-03-23 00:00:00\"\u001b[0m\u001b[1;39m,\n",
      "            \u001b[0m\u001b[34;1m\"expires_on\"\u001b[0m\u001b[1;39m: \u001b[0m\u001b[0;32m\"2037-03-22 23:59:59\"\u001b[0m\u001b[1;39m,\n",
      "            \u001b[0m\u001b[34;1m\"signed_using\"\u001b[0m\u001b[1;39m: \u001b[0m\u001b[0;32m\"RSA with SHA-256\"\u001b[0m\u001b[1;39m,\n",
      "            \u001b[0m\u001b[34;1m\"RSA_key_size\"\u001b[0m\u001b[1;39m: \u001b[0m\u001b[0;32m\"4096 bits\"\u001b[0m\u001b[1;39m,\n",
      "            \u001b[0m\u001b[34;1m\"basic_constraints\"\u001b[0m\u001b[1;39m: \u001b[0m\u001b[0;32m\"CA=true, max_pathlen=0\"\u001b[0m\u001b[1;39m,\n",
      "            \u001b[0m\u001b[34;1m\"key_usage\"\u001b[0m\u001b[1;39m: \u001b[0m\u001b[0;32m\"Digital Signature, Key Cert Sign, CRL Sign\"\u001b[0m\u001b[1;39m,\n",
      "            \u001b[0m\u001b[34;1m\"ext_key_usage\"\u001b[0m\u001b[1;39m: \u001b[0m\u001b[0;32m\"Time Stamping\"\u001b[0m\u001b[1;39m,\n",
      "            \u001b[0m\u001b[34;1m\"certificate_policies\"\u001b[0m\u001b[1;39m: \u001b[0m\u001b[0;32m\"???, ???\"\u001b[0m\u001b[1;39m\n",
      "          \u001b[1;39m}\u001b[0m\u001b[1;39m,\n",
      "          \u001b[1;39m{\n",
      "            \u001b[0m\u001b[34;1m\"cert._version\"\u001b[0m\u001b[1;39m: \u001b[0m\u001b[0;32m\"3\"\u001b[0m\u001b[1;39m,\n",
      "            \u001b[0m\u001b[34;1m\"serial_number\"\u001b[0m\u001b[1;39m: \u001b[0m\u001b[0;32m\"0C:4D:69:72:4B:94:FA:3C:2A:4A:3D:29:07:80:3D:5A\"\u001b[0m\u001b[1;39m,\n",
      "            \u001b[0m\u001b[34;1m\"issuer_name\"\u001b[0m\u001b[1;39m: \u001b[0m\u001b[0;32m\"C=US, O=DigiCert\\\\, Inc., CN=DigiCert Trusted G4 RSA4096 SHA256 TimeStamping CA\"\u001b[0m\u001b[1;39m,\n",
      "            \u001b[0m\u001b[34;1m\"subject_name\"\u001b[0m\u001b[1;39m: \u001b[0m\u001b[0;32m\"C=US, O=DigiCert, CN=DigiCert Timestamp 2022 - 2\"\u001b[0m\u001b[1;39m,\n",
      "            \u001b[0m\u001b[34;1m\"issued_on\"\u001b[0m\u001b[1;39m: \u001b[0m\u001b[0;32m\"2022-09-21 00:00:00\"\u001b[0m\u001b[1;39m,\n",
      "            \u001b[0m\u001b[34;1m\"expires_on\"\u001b[0m\u001b[1;39m: \u001b[0m\u001b[0;32m\"2033-11-21 23:59:59\"\u001b[0m\u001b[1;39m,\n",
      "            \u001b[0m\u001b[34;1m\"signed_using\"\u001b[0m\u001b[1;39m: \u001b[0m\u001b[0;32m\"RSA with SHA-256\"\u001b[0m\u001b[1;39m,\n",
      "            \u001b[0m\u001b[34;1m\"RSA_key_size\"\u001b[0m\u001b[1;39m: \u001b[0m\u001b[0;32m\"4096 bits\"\u001b[0m\u001b[1;39m,\n",
      "            \u001b[0m\u001b[34;1m\"basic_constraints\"\u001b[0m\u001b[1;39m: \u001b[0m\u001b[0;32m\"CA=false\"\u001b[0m\u001b[1;39m,\n",
      "            \u001b[0m\u001b[34;1m\"key_usage\"\u001b[0m\u001b[1;39m: \u001b[0m\u001b[0;32m\"Digital Signature\"\u001b[0m\u001b[1;39m,\n",
      "            \u001b[0m\u001b[34;1m\"ext_key_usage\"\u001b[0m\u001b[1;39m: \u001b[0m\u001b[0;32m\"Time Stamping\"\u001b[0m\u001b[1;39m,\n",
      "            \u001b[0m\u001b[34;1m\"certificate_policies\"\u001b[0m\u001b[1;39m: \u001b[0m\u001b[0;32m\"???, ???\"\u001b[0m\u001b[1;39m\n",
      "          \u001b[1;39m}\u001b[0m\u001b[1;39m\n",
      "        \u001b[1;39m]\u001b[0m\u001b[1;39m,\n",
      "        \u001b[0m\u001b[34;1m\"signers\"\u001b[0m\u001b[1;39m: \u001b[0m\u001b[0;32m\"SHA_1/RSA - C=GB, O=Sectigo Limited, CN=Sectigo Public Code Signing CA R36 - 4 auth attr - 2 unauth attr\"\u001b[0m\u001b[1;39m,\n",
      "        \u001b[0m\u001b[34;1m\"digest_algorithm\"\u001b[0m\u001b[1;39m: \u001b[0m\u001b[0;32m\"ALGORITHMS.SHA_1\"\u001b[0m\u001b[1;39m,\n",
      "        \u001b[0m\u001b[34;1m\"verification\"\u001b[0m\u001b[1;39m: \u001b[0m\u001b[0;32m\"OK\"\u001b[0m\u001b[1;39m\n",
      "      \u001b[1;39m}\u001b[0m\u001b[1;39m\n",
      "    \u001b[1;39m}\u001b[0m\u001b[1;39m\n",
      "  \u001b[1;39m}\u001b[0m\u001b[1;39m,\n",
      "  \u001b[0m\u001b[34;1m\"imphash\"\u001b[0m\u001b[1;39m: \u001b[0m\u001b[0;32m\"b34f154ec913d2d2c435cbd644e91687\"\u001b[0m\u001b[1;39m,\n",
      "  \u001b[0m\u001b[34;1m\"certs\"\u001b[0m\u001b[1;39m: \u001b[0m\u001b[1;39m{\n",
      "    \u001b[0m\u001b[34;1m\"7db9f7402a523dd338663b33d55aad0dd08cb67e687df0d4d98e7c5fca27efd1\"\u001b[0m\u001b[1;39m: \u001b[0m\u001b[0;32m\"<<non-serializable: bytes>>\"\u001b[0m\u001b[1;39m,\n",
      "    \u001b[0m\u001b[34;1m\"33846b545a49c9be4903c60e01713c1bd4e4ef31ea65cd95d69e62794f30b941\"\u001b[0m\u001b[1;39m: \u001b[0m\u001b[0;32m\"<<non-serializable: bytes>>\"\u001b[0m\u001b[1;39m,\n",
      "    \u001b[0m\u001b[34;1m\"1e685913aa6c2199c5bb14fcee38c6416a18e36cc2b38c85b97152c7ee70430b\"\u001b[0m\u001b[1;39m: \u001b[0m\u001b[0;32m\"<<non-serializable: bytes>>\"\u001b[0m\u001b[1;39m,\n",
      "    \u001b[0m\u001b[34;1m\"7fb0f58d71130abe724969f1cdc9b6a8d3274da18d059229b009a5b9b5557445\"\u001b[0m\u001b[1;39m: \u001b[0m\u001b[0;32m\"<<non-serializable: bytes>>\"\u001b[0m\u001b[1;39m,\n",
      "    \u001b[0m\u001b[34;1m\"281734d4592d1291d27190709cb510b07e22c405d5e0d6119b70e73589f98acf\"\u001b[0m\u001b[1;39m: \u001b[0m\u001b[0;32m\"<<non-serializable: bytes>>\"\u001b[0m\u001b[1;39m,\n",
      "    \u001b[0m\u001b[34;1m\"c7f4e1be32288920abe2263abe1ac4fc4fe6781c2d64d04c807557a023b5b6fa\"\u001b[0m\u001b[1;39m: \u001b[0m\u001b[0;32m\"<<non-serializable: bytes>>\"\u001b[0m\u001b[1;39m\n",
      "  \u001b[1;39m}\u001b[0m\u001b[1;39m,\n",
      "  \u001b[0m\u001b[34;1m\"authentihash\"\u001b[0m\u001b[1;39m: \u001b[0m\u001b[0;32m\"e2f1f0c4b4b6524e1054bd5980129996bc021daa\"\u001b[0m\u001b[1;39m,\n",
      "  \u001b[0m\u001b[34;1m\"metadata\"\u001b[0m\u001b[1;39m: \u001b[0m\u001b[1;39m{\n",
      "    \u001b[0m\u001b[34;1m\"OS\"\u001b[0m\u001b[1;39m: \u001b[0m\u001b[0;32m\"Windows\"\u001b[0m\u001b[1;39m,\n",
      "    \u001b[0m\u001b[34;1m\"peMachine\"\u001b[0m\u001b[1;39m: \u001b[0m\u001b[0;32m\"I386\"\u001b[0m\u001b[1;39m,\n",
      "    \u001b[0m\u001b[34;1m\"peOperatingSystemVersion\"\u001b[0m\u001b[1;39m: \u001b[0m\u001b[0;32m\"4.0\"\u001b[0m\u001b[1;39m,\n",
      "    \u001b[0m\u001b[34;1m\"peSubsystemVersion\"\u001b[0m\u001b[1;39m: \u001b[0m\u001b[0;32m\"4.0\"\u001b[0m\u001b[1;39m,\n",
      "    \u001b[0m\u001b[34;1m\"peSubsystem\"\u001b[0m\u001b[1;39m: \u001b[0m\u001b[0;32m\"WINDOWS_GUI\"\u001b[0m\u001b[1;39m,\n",
      "    \u001b[0m\u001b[34;1m\"peLinkerVersion\"\u001b[0m\u001b[1;39m: \u001b[0m\u001b[0;32m\"6.0\"\u001b[0m\u001b[1;39m,\n",
      "    \u001b[0m\u001b[34;1m\"peImport\"\u001b[0m\u001b[1;39m: \u001b[0m\u001b[1;39m[\n",
      "      \u001b[0;32m\"KERNEL32.dll\"\u001b[0m\u001b[1;39m,\n",
      "      \u001b[0;32m\"USER32.dll\"\u001b[0m\u001b[1;39m,\n",
      "      \u001b[0;32m\"GDI32.dll\"\u001b[0m\u001b[1;39m,\n",
      "      \u001b[0;32m\"SHELL32.dll\"\u001b[0m\u001b[1;39m,\n",
      "      \u001b[0;32m\"ADVAPI32.dll\"\u001b[0m\u001b[1;39m,\n",
      "      \u001b[0;32m\"COMCTL32.dll\"\u001b[0m\u001b[1;39m,\n",
      "      \u001b[0;32m\"ole32.dll\"\u001b[0m\u001b[1;39m\n",
      "    \u001b[1;39m]\u001b[0m\u001b[1;39m,\n",
      "    \u001b[0m\u001b[34;1m\"peIsExe\"\u001b[0m\u001b[1;39m: \u001b[0m\u001b[0;39mtrue\u001b[0m\u001b[1;39m,\n",
      "    \u001b[0m\u001b[34;1m\"peIsDll\"\u001b[0m\u001b[1;39m: \u001b[0m\u001b[0;39mfalse\u001b[0m\u001b[1;39m,\n",
      "    \u001b[0m\u001b[34;1m\"peIsClr\"\u001b[0m\u001b[1;39m: \u001b[0m\u001b[0;39mfalse\u001b[0m\u001b[1;39m,\n",
      "    \u001b[0m\u001b[34;1m\"FileInfo\"\u001b[0m\u001b[1;39m: \u001b[0m\u001b[1;39m{\n",
      "      \u001b[0m\u001b[34;1m\"CompanyName\"\u001b[0m\u001b[1;39m: \u001b[0m\u001b[0;32m\"Obsidian\"\u001b[0m\u001b[1;39m,\n",
      "      \u001b[0m\u001b[34;1m\"FileDescription\"\u001b[0m\u001b[1;39m: \u001b[0m\u001b[0;32m\"Obsidian\"\u001b[0m\u001b[1;39m,\n",
      "      \u001b[0m\u001b[34;1m\"FileVersion\"\u001b[0m\u001b[1;39m: \u001b[0m\u001b[0;32m\"1.1.9\"\u001b[0m\u001b[1;39m,\n",
      "      \u001b[0m\u001b[34;1m\"LegalCopyright\"\u001b[0m\u001b[1;39m: \u001b[0m\u001b[0;32m\"Copyright © 2021 Dynalist Inc.\"\u001b[0m\u001b[1;39m,\n",
      "      \u001b[0m\u001b[34;1m\"ProductName\"\u001b[0m\u001b[1;39m: \u001b[0m\u001b[0;32m\"Obsidian\"\u001b[0m\u001b[1;39m,\n",
      "      \u001b[0m\u001b[34;1m\"ProductVersion\"\u001b[0m\u001b[1;39m: \u001b[0m\u001b[0;32m\"1.1.9\"\u001b[0m\u001b[1;39m\n",
      "    \u001b[1;39m}\u001b[0m\u001b[1;39m,\n",
      "    \u001b[0m\u001b[34;1m\"dllRedirectionLocal\"\u001b[0m\u001b[1;39m: \u001b[0m\u001b[0;39mfalse\u001b[0m\u001b[1;39m\n",
      "  \u001b[1;39m}\u001b[0m\u001b[1;39m,\n",
      "  \u001b[0m\u001b[34;1m\"magic\"\u001b[0m\u001b[1;39m: \u001b[0m\u001b[0;32m\"PE32 executable (GUI) Intel 80386, for MS Windows, Nullsoft Installer self-extracting archive\"\u001b[0m\u001b[1;39m,\n",
      "  \u001b[0m\u001b[34;1m\"modtime\"\u001b[0m\u001b[1;39m: \u001b[0m\u001b[0;32m\"2023-10-13 19:24:48\"\u001b[0m\u001b[1;39m,\n",
      "  \u001b[0m\u001b[34;1m\"observation_ts\"\u001b[0m\u001b[1;39m: \u001b[0m\u001b[0;32m\"2023-12-12 19:57:06\"\u001b[0m\u001b[1;39m,\n",
      "  \u001b[0m\u001b[34;1m\"permissions\"\u001b[0m\u001b[1;39m: \u001b[0m\u001b[0;32m\"0o100750\"\u001b[0m\u001b[1;39m,\n",
      "  \u001b[0m\u001b[34;1m\"md5\"\u001b[0m\u001b[1;39m: \u001b[0m\u001b[0;32m\"52880858a43613dc8b2011f7f1c84ec8\"\u001b[0m\u001b[1;39m,\n",
      "  \u001b[0m\u001b[34;1m\"sha1\"\u001b[0m\u001b[1;39m: \u001b[0m\u001b[0;32m\"3c45505db042068f22caee4fbb5fef0a102100bb\"\u001b[0m\u001b[1;39m,\n",
      "  \u001b[0m\u001b[34;1m\"sha256\"\u001b[0m\u001b[1;39m: \u001b[0m\u001b[0;32m\"8759af1eb38bd975c52dcf31f4ce185b3adcef0baf1a4677b51065ea9eb1e7d4\"\u001b[0m\u001b[1;39m,\n",
      "  \u001b[0m\u001b[34;1m\"ssdeep\"\u001b[0m\u001b[1;39m: \u001b[0m\u001b[0;32m\"1572864:ZVBOHCnuy3zotWQbHr3DRYt3bVTBmoURPljZKT8RnmY:TnDPQjvytRQouimh\"\u001b[0m\u001b[1;39m\n",
      "\u001b[1;39m}\u001b[0m\n"
     ]
    }
   ],
   "source": [
    "! eyeon --output-dir ./outputs observe ./tests/Obsidian.1.1.9.exe\n",
    "! jq . ./outputs/Obsidian.*"
   ]
  },
  {
   "cell_type": "code",
   "execution_count": null,
   "id": "46ff5d28-78f7-48dd-9db4-413cb95865d7",
   "metadata": {},
   "outputs": [],
   "source": []
  },
  {
   "cell_type": "code",
   "execution_count": null,
   "id": "510cd94c-effa-464e-9e48-5ee470ebdd55",
   "metadata": {},
   "outputs": [],
   "source": []
  },
  {
   "cell_type": "code",
   "execution_count": null,
   "id": "79a96a5c-8676-453e-b669-ed667665e410",
   "metadata": {},
   "outputs": [],
   "source": []
  },
  {
   "cell_type": "code",
   "execution_count": null,
   "id": "8d7cdfba-3839-4478-bc8b-9c1eb81bd486",
   "metadata": {},
   "outputs": [],
   "source": []
  },
  {
   "cell_type": "code",
   "execution_count": null,
   "id": "442a9980-f7ea-492c-a838-c594cf66aed6",
   "metadata": {},
   "outputs": [],
   "source": []
  },
  {
   "cell_type": "code",
   "execution_count": null,
   "id": "8533a85a-9341-46c7-be45-6edd6daf9ffa",
   "metadata": {},
   "outputs": [],
   "source": []
  },
  {
   "cell_type": "code",
   "execution_count": null,
   "id": "6b1d75cf-9e5b-46d5-8174-13eeb3a6f698",
   "metadata": {},
   "outputs": [],
   "source": []
  },
  {
   "cell_type": "code",
   "execution_count": null,
   "id": "a7f59c11-7993-4813-902c-d09bc5d9990f",
   "metadata": {},
   "outputs": [],
   "source": []
  },
  {
   "cell_type": "code",
   "execution_count": null,
   "id": "2d4f0572-8d4b-4aca-87bb-78b68c73358b",
   "metadata": {},
   "outputs": [],
   "source": []
  },
  {
   "cell_type": "code",
   "execution_count": null,
   "id": "ba07496d-a214-4bcb-b5f0-f489238cd763",
   "metadata": {},
   "outputs": [],
   "source": []
  },
  {
   "cell_type": "code",
   "execution_count": null,
   "id": "20fb2fca-c330-4f31-891d-9d20768a741c",
   "metadata": {},
   "outputs": [],
   "source": []
  },
  {
   "cell_type": "code",
   "execution_count": null,
   "id": "c78ff3d6-84ec-4126-8fa1-588d1e5e2ec2",
   "metadata": {},
   "outputs": [],
   "source": []
  },
  {
   "cell_type": "code",
   "execution_count": null,
   "id": "030ac8b3-4a4b-4663-bc34-3a7884464bc4",
   "metadata": {},
   "outputs": [],
   "source": [
    "G = nx.DiGraph(name=\"Signing Certs\")\n",
    "label_dict = {}\n",
    "sample_cert = None\n"
   ]
  },
  {
   "cell_type": "code",
   "execution_count": null,
   "id": "9ec625bd-f2b4-4204-8343-3e14c1dd0c82",
   "metadata": {},
   "outputs": [],
   "source": [
    "#for root, dirs, files in os.walk(exe):\n",
    "# for file in os.listdir(exe):\n",
    "#    path = root.split(os.sep)\n",
    "#    print((len(path) - 1) * '---', os.path.basename(root))\n",
    "#   for file in files:\n",
    "#    print(len(path) * '---', file)\n",
    "file = \"Obsidian.1.1.9.exe\"\n",
    "pe = lief.parse(f\"tests/{file}\")\n",
    "# for sig in pe.signatures:\n",
    "sig = pe.signatures[0]\n",
    "for crt in sig.certificates:\n",
    "# print(crt)\n",
    "# Write cert (in DER format)\n",
    "    with open(f\"tests/outputs/{crt.subject}.crt\", \"wb\") as binary_file:\n",
    "      binary_file.write(crt.raw)\n",
    "    # Add to graph\n",
    "    try:\n",
    "      G.add_nodes_from([crt.subject,crt.issuer])\n",
    "      G.add_edge(crt.subject,crt.issuer)\n",
    "      label_dict[crt.subject]=crt.subject\n",
    "      G.add_nodes_from([crt.subject,crt.issuer])\n",
    "      G.add_edge(crt.subject,crt.issuer)\n",
    "    except nx.NetworkXError:\n",
    "      print('Yikes!')\n",
    "      print(crt.subject)\n",
    "      print(crt.issuer)\n",
    "    spl = str(crt.subject).split(', ')\n",
    "    subj = {}\n",
    "    for i in spl:\n",
    "        j = i.split(\"=\")\n",
    "        try:\n",
    "            subj[j[0]] = j[1]\n",
    "        except:\n",
    "            print(j)\n",
    "            subj[j[0]] = \"\"\n",
    "    print(crt.subject)\n",
    "    print(subj)\n"
   ]
  },
  {
   "cell_type": "code",
   "execution_count": null,
   "id": "272fd600-c3f5-46b9-892e-329e26888aa6",
   "metadata": {},
   "outputs": [],
   "source": [
    "nx.draw_spring(G,with_labels=True, labels=label_dict, )\n"
   ]
  },
  {
   "cell_type": "code",
   "execution_count": null,
   "id": "c0095e51-a644-4918-95e2-2303d49312ef",
   "metadata": {},
   "outputs": [],
   "source": [
    "# %pip install matplotlib"
   ]
  },
  {
   "cell_type": "code",
   "execution_count": null,
   "id": "33b387c6-45ce-4ee1-9687-93089edeadf0",
   "metadata": {},
   "outputs": [],
   "source": [
    "G.in_degree"
   ]
  },
  {
   "cell_type": "code",
   "execution_count": null,
   "id": "03af0b11-4de1-456a-aea5-46505913cd75",
   "metadata": {},
   "outputs": [],
   "source": [
    "spl = str(crt.subject).split(',')\n",
    "subj = {}\n",
    "for i in spl:\n",
    "    j = i.split(\"=\")\n",
    "    subj[j[0]] = j[1]\n"
   ]
  },
  {
   "cell_type": "code",
   "execution_count": null,
   "id": "8dc001bc-5813-4876-8f6e-e258387676a3",
   "metadata": {},
   "outputs": [],
   "source": [
    "subj"
   ]
  },
  {
   "cell_type": "code",
   "execution_count": null,
   "id": "fd91e1e6-7690-4325-9f51-858c953ddaf0",
   "metadata": {},
   "outputs": [],
   "source": [
    "help(nx.draw_networkx)"
   ]
  },
  {
   "cell_type": "code",
   "execution_count": null,
   "id": "c4940861-3ff5-422a-a139-a6ebeb7db891",
   "metadata": {},
   "outputs": [],
   "source": []
  }
 ],
 "metadata": {
  "kernelspec": {
   "display_name": "Python 3 (ipykernel)",
   "language": "python",
   "name": "python3"
  },
  "language_info": {
   "codemirror_mode": {
    "name": "ipython",
    "version": 3
   },
   "file_extension": ".py",
   "mimetype": "text/x-python",
   "name": "python",
   "nbconvert_exporter": "python",
   "pygments_lexer": "ipython3",
   "version": "3.10.12"
  }
 },
 "nbformat": 4,
 "nbformat_minor": 5
}
