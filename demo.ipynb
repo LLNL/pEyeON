{
 "cells": [
  {
   "cell_type": "markdown",
   "id": "9df36551-c6a4-49a8-9c33-ce0077f2d4d3",
   "metadata": {},
   "source": [
    "## EyeON: Eye on Operational Networks\n",
    "### a firmware inventory/threat analysis tool\n"
   ]
  },
  {
   "cell_type": "code",
   "execution_count": null,
   "id": "2d4a54c7-9bde-4469-8423-4141470acf20",
   "metadata": {},
   "outputs": [],
   "source": [
    "from eyeon import observe\n",
    "from pprint import pprint"
   ]
  },
  {
   "cell_type": "markdown",
   "id": "7d72ecff-05f9-4422-882d-4618b3a058b8",
   "metadata": {},
   "source": [
    "### Objects\n",
    "EyeON consists of two parts - an `observe` call and a `parse` call. `observe` works on a single file to return a suite of identifying metrics. `parse` calls `observe` recursively, returning an observation for each file in a directory. Both of these can be run either from a library import or a `CLI` command."
   ]
  },
  {
   "cell_type": "code",
   "execution_count": null,
   "id": "e31fb08f-b2fd-4510-b5d3-5455a33e092a",
   "metadata": {},
   "outputs": [],
   "source": [
    "obs = observe.Observe(\"./tests/Obsidian.1.1.9.exe\")\n",
    "ols = observe.Observe(\"./tests/ls\")"
   ]
  },
  {
   "cell_type": "markdown",
   "id": "eab761ff-e92e-44b4-b1ce-e8d4e7ffb69e",
   "metadata": {},
   "source": [
    "### Data Standard\n",
    "Depending on the file type, e.g. PE or ELF, different observations will be collected. \n",
    "For instance, PE files typically contain more metadata and have signature information."
   ]
  },
  {
   "cell_type": "raw",
   "id": "604d09e5-61c1-439f-8d5d-046ce959f1b8",
   "metadata": {},
   "source": [
    "print(obs)"
   ]
  },
  {
   "cell_type": "code",
   "execution_count": null,
   "id": "a7dc09c8-a616-4ed0-a766-f72b9dab0e9b",
   "metadata": {
    "scrolled": true
   },
   "outputs": [],
   "source": [
    "for key, val in obs.signatures[\"signatures\"].items():\n",
    "    for cert in val[\"certs\"]:\n",
    "        for dat in cert.split(\"\\n\"):\n",
    "            print(dat)"
   ]
  },
  {
   "cell_type": "code",
   "execution_count": null,
   "id": "bde27bbc-ef95-45dc-b826-fd48d6bb5bdc",
   "metadata": {},
   "outputs": [],
   "source": [
    "import lief\n",
    "obsi = lief.parse(\"./tests/Obsidian.1.1.9.exe\")\n"
   ]
  },
  {
   "cell_type": "code",
   "execution_count": null,
   "id": "92fb2ac4-0e65-4def-b75e-29c2e4ca0568",
   "metadata": {},
   "outputs": [],
   "source": [
    "if obsi.has_resources:\n",
    "    rsrc_dir = obsi.data_directory(lief.PE.DATA_DIRECTORY.RESOURCE_TABLE)\n",
    "    if rsrc_dir.has_section:\n",
    "        print(rsrc_dir.section)"
   ]
  },
  {
   "cell_type": "code",
   "execution_count": null,
   "id": "6931c245-e6b9-4d57-b59f-e820baa07202",
   "metadata": {},
   "outputs": [],
   "source": []
  },
  {
   "cell_type": "code",
   "execution_count": null,
   "id": "5d6f5f86-10c9-4688-9cdf-1a292b1f1432",
   "metadata": {
    "scrolled": true
   },
   "outputs": [],
   "source": [
    "for i in obsi.resources.childs:\n",
    "    print(i.id)\n",
    "    print(i)"
   ]
  },
  {
   "cell_type": "code",
   "execution_count": null,
   "id": "3eabcac5-2f07-41ac-b52a-b5b8ae5415c5",
   "metadata": {},
   "outputs": [],
   "source": [
    "idn = i.childs[0]\n",
    "print(idn)\n",
    "lgn = idn.childs[0]\n",
    "print(lgn)\n",
    "manifest = bytes(lgn.content).decode(\"utf-8\")\n",
    "print(manifest)"
   ]
  },
  {
   "cell_type": "code",
   "execution_count": null,
   "id": "43adb27c-8c72-4152-a151-ae0431838191",
   "metadata": {
    "scrolled": true
   },
   "outputs": [],
   "source": [
    "from xml.etree import cElementTree as ET\n",
    "e = ET.XML(manifest)\n",
    "pprint(etree_to_dict(e))"
   ]
  },
  {
   "cell_type": "code",
   "execution_count": null,
   "id": "fb853f0e-6b34-49d8-9442-829ef1d508ab",
   "metadata": {},
   "outputs": [],
   "source": [
    "from surfactant.infoextractors.pe_file import extract_pe_info\n",
    "filedata = extract_pe_info(\"./tests/Obsidian.1.1.9.exe\")\n",
    "filedata"
   ]
  },
  {
   "cell_type": "code",
   "execution_count": null,
   "id": "12e86917-87d6-464f-a47f-1df4d8887aa8",
   "metadata": {},
   "outputs": [],
   "source": [
    "\n",
    "def etree_to_dict(t):\n",
    "    d = {t.tag: {} if t.attrib else None}\n",
    "    children = list(t)\n",
    "    if children:\n",
    "        dd = defaultdict(list)\n",
    "        for dc in map(etree_to_dict, children):\n",
    "            for k, v in dc.items():\n",
    "                dd[k].append(v)\n",
    "        d = {t.tag: {k:v[0] if len(v) == 1 else v for k, v in dd.items()}}\n",
    "    if t.attrib:\n",
    "        d[t.tag].update(('@' + k, v) for k, v in t.attrib.items())\n",
    "    if t.text:\n",
    "        text = t.text.strip()\n",
    "        if children or t.attrib:\n",
    "            if text:\n",
    "              d[t.tag]['#text'] = text\n",
    "        else:\n",
    "            d[t.tag] = text\n",
    "    return d"
   ]
  },
  {
   "cell_type": "code",
   "execution_count": null,
   "id": "92d31da1-45ba-466f-93bd-8c3e55140814",
   "metadata": {},
   "outputs": [],
   "source": [
    "# print(obsi.resources.childs[1])\n",
    "# # print(get_content(obsi.resources.childs[1]))\n",
    "# print(obsi.resources.childs[1].childs[0])\n",
    "# # print(get_content(obsi.resources.childs[1].childs[0]))\n",
    "# print(obsi.resources.childs[1].childs[0].childs[0])\n",
    "# print(get_content(obsi.resources.childs[1].childs[0].childs[0]))\n",
    "print(obsi.resources_manager.manifest)"
   ]
  },
  {
   "cell_type": "code",
   "execution_count": null,
   "id": "030ac8b3-4a4b-4663-bc34-3a7884464bc4",
   "metadata": {},
   "outputs": [],
   "source": [
    "G = nx.DiGraph(name=\"Signing Certs\")\n",
    "label_dict = {}\n",
    "sample_cert = None\n"
   ]
  },
  {
   "cell_type": "code",
   "execution_count": null,
   "id": "9ec625bd-f2b4-4204-8343-3e14c1dd0c82",
   "metadata": {},
   "outputs": [],
   "source": [
    "#for root, dirs, files in os.walk(exe):\n",
    "# for file in os.listdir(exe):\n",
    "#    path = root.split(os.sep)\n",
    "#    print((len(path) - 1) * '---', os.path.basename(root))\n",
    "#   for file in files:\n",
    "#    print(len(path) * '---', file)\n",
    "file = \"Obsidian.1.1.9.exe\"\n",
    "pe = lief.parse(f\"tests/{file}\")\n",
    "# for sig in pe.signatures:\n",
    "sig = pe.signatures[0]\n",
    "for crt in sig.certificates:\n",
    "# print(crt)\n",
    "# Write cert (in DER format)\n",
    "    with open(f\"tests/outputs/{crt.subject}.crt\", \"wb\") as binary_file:\n",
    "      binary_file.write(crt.raw)\n",
    "    # Add to graph\n",
    "    try:\n",
    "      G.add_nodes_from([crt.subject,crt.issuer])\n",
    "      G.add_edge(crt.subject,crt.issuer)\n",
    "      label_dict[crt.subject]=crt.subject\n",
    "      G.add_nodes_from([crt.subject,crt.issuer])\n",
    "      G.add_edge(crt.subject,crt.issuer)\n",
    "    except nx.NetworkXError:\n",
    "      print('Yikes!')\n",
    "      print(crt.subject)\n",
    "      print(crt.issuer)\n",
    "    spl = str(crt.subject).split(', ')\n",
    "    subj = {}\n",
    "    for i in spl:\n",
    "        j = i.split(\"=\")\n",
    "        try:\n",
    "            subj[j[0]] = j[1]\n",
    "        except:\n",
    "            print(j)\n",
    "            subj[j[0]] = \"\"\n",
    "    print(crt.subject)\n",
    "    print(subj)\n"
   ]
  },
  {
   "cell_type": "code",
   "execution_count": null,
   "id": "272fd600-c3f5-46b9-892e-329e26888aa6",
   "metadata": {},
   "outputs": [],
   "source": [
    "nx.draw_spring(G,with_labels=True, labels=label_dict, )\n"
   ]
  },
  {
   "cell_type": "code",
   "execution_count": null,
   "id": "c0095e51-a644-4918-95e2-2303d49312ef",
   "metadata": {},
   "outputs": [],
   "source": [
    "# %pip install matplotlib"
   ]
  },
  {
   "cell_type": "code",
   "execution_count": null,
   "id": "33b387c6-45ce-4ee1-9687-93089edeadf0",
   "metadata": {},
   "outputs": [],
   "source": [
    "G.in_degree"
   ]
  },
  {
   "cell_type": "code",
   "execution_count": null,
   "id": "03af0b11-4de1-456a-aea5-46505913cd75",
   "metadata": {},
   "outputs": [],
   "source": [
    "spl = str(crt.subject).split(',')\n",
    "subj = {}\n",
    "for i in spl:\n",
    "    j = i.split(\"=\")\n",
    "    subj[j[0]] = j[1]\n"
   ]
  },
  {
   "cell_type": "code",
   "execution_count": null,
   "id": "8dc001bc-5813-4876-8f6e-e258387676a3",
   "metadata": {},
   "outputs": [],
   "source": [
    "subj"
   ]
  },
  {
   "cell_type": "code",
   "execution_count": null,
   "id": "fd91e1e6-7690-4325-9f51-858c953ddaf0",
   "metadata": {},
   "outputs": [],
   "source": [
    "help(nx.draw_networkx)"
   ]
  },
  {
   "cell_type": "code",
   "execution_count": null,
   "id": "c4940861-3ff5-422a-a139-a6ebeb7db891",
   "metadata": {},
   "outputs": [],
   "source": []
  }
 ],
 "metadata": {
  "kernelspec": {
   "display_name": "Python 3 (ipykernel)",
   "language": "python",
   "name": "python3"
  },
  "language_info": {
   "codemirror_mode": {
    "name": "ipython",
    "version": 3
   },
   "file_extension": ".py",
   "mimetype": "text/x-python",
   "name": "python",
   "nbconvert_exporter": "python",
   "pygments_lexer": "ipython3",
   "version": "3.10.12"
  }
 },
 "nbformat": 4,
 "nbformat_minor": 5
}
