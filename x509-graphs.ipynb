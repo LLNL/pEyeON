{
 "cells": [
  {
   "cell_type": "markdown",
   "id": "9df36551-c6a4-49a8-9c33-ce0077f2d4d3",
   "metadata": {},
   "source": [
    "## EyeON: Eye on Operational Networks\n",
    "### a firmware inventory/threat analysis tool\n"
   ]
  },
  {
   "cell_type": "code",
   "execution_count": null,
   "id": "a9b8cafe-d7eb-408c-bd9c-f239f465d55e",
   "metadata": {},
   "outputs": [],
   "source": [
    "from eyeon import observe\n",
    "from pprint import pprint\n",
    "obs = observe.Observe(\"./tests/Obsidian.1.1.9.exe\")"
   ]
  },
  {
   "cell_type": "code",
   "execution_count": null,
   "id": "c78ff3d6-84ec-4126-8fa1-588d1e5e2ec2",
   "metadata": {},
   "outputs": [],
   "source": []
  },
  {
   "cell_type": "code",
   "execution_count": null,
   "id": "030ac8b3-4a4b-4663-bc34-3a7884464bc4",
   "metadata": {},
   "outputs": [],
   "source": [
    "G = nx.DiGraph(name=\"Signing Certs\")\n",
    "label_dict = {}\n",
    "sample_cert = None\n"
   ]
  },
  {
   "cell_type": "code",
   "execution_count": null,
   "id": "9ec625bd-f2b4-4204-8343-3e14c1dd0c82",
   "metadata": {},
   "outputs": [],
   "source": [
    "#for root, dirs, files in os.walk(exe):\n",
    "# for file in os.listdir(exe):\n",
    "#    path = root.split(os.sep)\n",
    "#    print((len(path) - 1) * '---', os.path.basename(root))\n",
    "#   for file in files:\n",
    "#    print(len(path) * '---', file)\n",
    "file = \"Obsidian.1.1.9.exe\"\n",
    "pe = lief.parse(f\"tests/{file}\")\n",
    "# for sig in pe.signatures:\n",
    "sig = pe.signatures[0]\n",
    "for crt in sig.certificates:\n",
    "# print(crt)\n",
    "# Write cert (in DER format)\n",
    "    with open(f\"tests/outputs/{crt.subject}.crt\", \"wb\") as binary_file:\n",
    "      binary_file.write(crt.raw)\n",
    "    # Add to graph\n",
    "    try:\n",
    "      G.add_nodes_from([crt.subject,crt.issuer])\n",
    "      G.add_edge(crt.subject,crt.issuer)\n",
    "      label_dict[crt.subject]=crt.subject\n",
    "      G.add_nodes_from([crt.subject,crt.issuer])\n",
    "      G.add_edge(crt.subject,crt.issuer)\n",
    "    except nx.NetworkXError:\n",
    "      print('Yikes!')\n",
    "      print(crt.subject)\n",
    "      print(crt.issuer)\n",
    "    spl = str(crt.subject).split(', ')\n",
    "    subj = {}\n",
    "    for i in spl:\n",
    "        j = i.split(\"=\")\n",
    "        try:\n",
    "            subj[j[0]] = j[1]\n",
    "        except:\n",
    "            print(j)\n",
    "            subj[j[0]] = \"\"\n",
    "    print(crt.subject)\n",
    "    print(subj)\n"
   ]
  },
  {
   "cell_type": "code",
   "execution_count": null,
   "id": "272fd600-c3f5-46b9-892e-329e26888aa6",
   "metadata": {},
   "outputs": [],
   "source": [
    "nx.draw_spring(G,with_labels=True, labels=label_dict, )\n"
   ]
  },
  {
   "cell_type": "code",
   "execution_count": null,
   "id": "c0095e51-a644-4918-95e2-2303d49312ef",
   "metadata": {},
   "outputs": [],
   "source": [
    "# %pip install matplotlib"
   ]
  },
  {
   "cell_type": "code",
   "execution_count": null,
   "id": "33b387c6-45ce-4ee1-9687-93089edeadf0",
   "metadata": {},
   "outputs": [],
   "source": [
    "G.in_degree"
   ]
  },
  {
   "cell_type": "code",
   "execution_count": null,
   "id": "03af0b11-4de1-456a-aea5-46505913cd75",
   "metadata": {},
   "outputs": [],
   "source": [
    "spl = str(crt.subject).split(',')\n",
    "subj = {}\n",
    "for i in spl:\n",
    "    j = i.split(\"=\")\n",
    "    subj[j[0]] = j[1]\n"
   ]
  },
  {
   "cell_type": "code",
   "execution_count": null,
   "id": "8dc001bc-5813-4876-8f6e-e258387676a3",
   "metadata": {},
   "outputs": [],
   "source": [
    "subj"
   ]
  },
  {
   "cell_type": "code",
   "execution_count": null,
   "id": "fd91e1e6-7690-4325-9f51-858c953ddaf0",
   "metadata": {},
   "outputs": [],
   "source": [
    "help(nx.draw_networkx)"
   ]
  },
  {
   "cell_type": "code",
   "execution_count": null,
   "id": "c4940861-3ff5-422a-a139-a6ebeb7db891",
   "metadata": {},
   "outputs": [],
   "source": []
  }
 ],
 "metadata": {
  "kernelspec": {
   "display_name": "Python 3 (ipykernel)",
   "language": "python",
   "name": "python3"
  },
  "language_info": {
   "codemirror_mode": {
    "name": "ipython",
    "version": 3
   },
   "file_extension": ".py",
   "mimetype": "text/x-python",
   "name": "python",
   "nbconvert_exporter": "python",
   "pygments_lexer": "ipython3",
   "version": "3.10.12"
  }
 },
 "nbformat": 4,
 "nbformat_minor": 5
}
